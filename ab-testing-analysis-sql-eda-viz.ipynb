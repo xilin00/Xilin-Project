{
 "cells": [
  {
   "cell_type": "markdown",
   "id": "8c4c28ae",
   "metadata": {
    "papermill": {
     "duration": 0.007601,
     "end_time": "2025-08-13T20:26:26.774212",
     "exception": false,
     "start_time": "2025-08-13T20:26:26.766611",
     "status": "completed"
    },
    "tags": []
   },
   "source": [
    "## <span style=\"color:White; font-size:24px; font-weight:bold;\">About Project</span>"
   ]
  },
  {
   "cell_type": "markdown",
   "id": "833830b9",
   "metadata": {
    "papermill": {
     "duration": 0.006242,
     "end_time": "2025-08-13T20:26:26.788674",
     "exception": false,
     "start_time": "2025-08-13T20:26:26.782432",
     "status": "completed"
    },
    "tags": []
   },
   "source": [
    "A marketing company conducted an A/B test to evaluate whether a new advertisement could improve conversion rates. In the experiment, the treatment group was exposed to the new ads, while the control group was shown either a Public Service Announcement (PSA) or no content at all, placed in the same location and format as the ads.\n",
    "\n",
    "This project analyzes the collected data to determine whether launching the new ads would be a worthwhile business decision. The analysis begins with an exploratory data analysis (EDA) using SQL, Matplotlib, and Seaborn to generate clear and insightful visualizations, enabling a deeper understanding of the campaign’s performance. Subsequently, hypothesis testing is performed to assess whether the observed differences between the treatment and control groups are statistically significant, supporting data-driven decision-making.\n",
    "\n"
   ]
  },
  {
   "cell_type": "markdown",
   "id": "b8b6fc55",
   "metadata": {
    "papermill": {
     "duration": 0.00683,
     "end_time": "2025-08-13T20:26:26.802093",
     "exception": false,
     "start_time": "2025-08-13T20:26:26.795263",
     "status": "completed"
    },
    "tags": []
   },
   "source": [
    "## <span style=\"color:White; font-size:24px; font-weight:bold;\">Table of Content</span>"
   ]
  },
  {
   "cell_type": "markdown",
   "id": "8c10ad9a",
   "metadata": {
    "papermill": {
     "duration": 0.00699,
     "end_time": "2025-08-13T20:26:26.815605",
     "exception": false,
     "start_time": "2025-08-13T20:26:26.808615",
     "status": "completed"
    },
    "tags": []
   },
   "source": [
    "1. Libraries\n",
    "2. Loading Data\n",
    "3. Exploratory Data Analysis\n",
    "   - 3.1 Basic Information\n",
    "   - 3.2 Analysis per Testing Group\n",
    "   - 3.3 Conversion Rate by Day of the Week & Hour of the Day\n",
    "   - 3.4 Most Ads Seen by Day of the Week\n",
    "   - 3.5 Top 10 Most Ads Seen by Day and Hour - Treatment vs. Control\n",
    "4. Hypothesis Test\n",
    "    - 4.1 Conversion Rate\n",
    "    - 4.2 Total Ads\n",
    "5.  Key Findings & Recommendations\n",
    "      "
   ]
  },
  {
   "cell_type": "markdown",
   "id": "b49a139b",
   "metadata": {
    "papermill": {
     "duration": 0.006195,
     "end_time": "2025-08-13T20:26:26.828479",
     "exception": false,
     "start_time": "2025-08-13T20:26:26.822284",
     "status": "completed"
    },
    "tags": []
   },
   "source": [
    "## <span style=\"color:White; font-size:24px; font-weight:bold;\">1. Libraries</span>"
   ]
  },
  {
   "cell_type": "code",
   "execution_count": 1,
   "id": "0aa42dc2",
   "metadata": {
    "_cell_guid": "b1076dfc-b9ad-4769-8c92-a6c4dae69d19",
    "_uuid": "8f2839f25d086af736a60e9eeb907d3b93b6e0e5",
    "execution": {
     "iopub.execute_input": "2025-08-13T20:26:26.842708Z",
     "iopub.status.busy": "2025-08-13T20:26:26.842379Z",
     "iopub.status.idle": "2025-08-13T20:26:31.433925Z",
     "shell.execute_reply": "2025-08-13T20:26:31.432975Z"
    },
    "papermill": {
     "duration": 4.600666,
     "end_time": "2025-08-13T20:26:31.435583",
     "exception": false,
     "start_time": "2025-08-13T20:26:26.834917",
     "status": "completed"
    },
    "tags": []
   },
   "outputs": [
    {
     "name": "stdout",
     "output_type": "stream",
     "text": [
      "Path to dataset files: /kaggle/input/marketing-ab-testing\n"
     ]
    }
   ],
   "source": [
    "import kagglehub\n",
    "import pandas as pd\n",
    "import sqlite3\n",
    "from scipy import stats\n",
    "import matplotlib.pyplot as plt\n",
    "import matplotlib.patches as mpatches\n",
    "import seaborn as sns\n",
    "\n",
    "# Download latest version\n",
    "path = kagglehub.dataset_download(\"faviovaz/marketing-ab-testing\")\n",
    "print(\"Path to dataset files:\", path)"
   ]
  },
  {
   "cell_type": "markdown",
   "id": "a9922c5f",
   "metadata": {
    "papermill": {
     "duration": 0.006763,
     "end_time": "2025-08-13T20:26:31.449198",
     "exception": false,
     "start_time": "2025-08-13T20:26:31.442435",
     "status": "completed"
    },
    "tags": []
   },
   "source": [
    "## <span style=\"color:White; font-size:24px; font-weight:bold;\">2. Loading Data</span>"
   ]
  },
  {
   "cell_type": "code",
   "execution_count": 2,
   "id": "125a8f8f",
   "metadata": {
    "execution": {
     "iopub.execute_input": "2025-08-13T20:26:31.465598Z",
     "iopub.status.busy": "2025-08-13T20:26:31.464471Z",
     "iopub.status.idle": "2025-08-13T20:26:34.025753Z",
     "shell.execute_reply": "2025-08-13T20:26:34.024787Z"
    },
    "papermill": {
     "duration": 2.571202,
     "end_time": "2025-08-13T20:26:34.027615",
     "exception": false,
     "start_time": "2025-08-13T20:26:31.456413",
     "status": "completed"
    },
    "tags": []
   },
   "outputs": [
    {
     "data": {
      "text/plain": [
       "588101"
      ]
     },
     "execution_count": 2,
     "metadata": {},
     "output_type": "execute_result"
    }
   ],
   "source": [
    "base_df = pd.read_csv(\"/kaggle/input/marketing-ab-testing/marketing_AB.csv\")\n",
    "base_df.columns = [col.replace(' ','_') for col in base_df.columns]\n",
    "base_df = base_df.rename(columns={\"Unnamed:_0\": \"index\"})\n",
    "\n",
    "# connect to SQLite\n",
    "conn = sqlite3.connect(\"mydb.db\")\n",
    "\n",
    "# to sql db\n",
    "base_df.to_sql(\"ab_testing\", conn, if_exists=\"replace\", index=False)"
   ]
  },
  {
   "cell_type": "markdown",
   "id": "a0ca38fd",
   "metadata": {
    "papermill": {
     "duration": 0.006556,
     "end_time": "2025-08-13T20:26:34.041576",
     "exception": false,
     "start_time": "2025-08-13T20:26:34.035020",
     "status": "completed"
    },
    "tags": []
   },
   "source": [
    "## <span style=\"color:White; font-size:24px; font-weight:bold;\">3. EDA </span>"
   ]
  },
  {
   "cell_type": "markdown",
   "id": "a198a3ff",
   "metadata": {
    "papermill": {
     "duration": 0.006518,
     "end_time": "2025-08-13T20:26:34.055266",
     "exception": false,
     "start_time": "2025-08-13T20:26:34.048748",
     "status": "completed"
    },
    "tags": []
   },
   "source": [
    "### 3.1 Basic Information"
   ]
  },
  {
   "cell_type": "markdown",
   "id": "0398a62e",
   "metadata": {
    "papermill": {
     "duration": 0.006323,
     "end_time": "2025-08-13T20:26:34.068215",
     "exception": false,
     "start_time": "2025-08-13T20:26:34.061892",
     "status": "completed"
    },
    "tags": []
   },
   "source": [
    "First, I examined the structure of the dataset and calculated key descriptive statistics for each variable to gain an initial understanding of the data distribution and identify any potential anomalies or data quality issues."
   ]
  },
  {
   "cell_type": "code",
   "execution_count": 3,
   "id": "c8c4432c",
   "metadata": {
    "execution": {
     "iopub.execute_input": "2025-08-13T20:26:34.082332Z",
     "iopub.status.busy": "2025-08-13T20:26:34.081982Z",
     "iopub.status.idle": "2025-08-13T20:26:34.263265Z",
     "shell.execute_reply": "2025-08-13T20:26:34.262375Z"
    },
    "papermill": {
     "duration": 0.190062,
     "end_time": "2025-08-13T20:26:34.264701",
     "exception": false,
     "start_time": "2025-08-13T20:26:34.074639",
     "status": "completed"
    },
    "tags": []
   },
   "outputs": [
    {
     "name": "stdout",
     "output_type": "stream",
     "text": [
      "First 10 rows of dataset:\n"
     ]
    },
    {
     "data": {
      "text/html": [
       "<div>\n",
       "<style scoped>\n",
       "    .dataframe tbody tr th:only-of-type {\n",
       "        vertical-align: middle;\n",
       "    }\n",
       "\n",
       "    .dataframe tbody tr th {\n",
       "        vertical-align: top;\n",
       "    }\n",
       "\n",
       "    .dataframe thead th {\n",
       "        text-align: right;\n",
       "    }\n",
       "</style>\n",
       "<table border=\"1\" class=\"dataframe\">\n",
       "  <thead>\n",
       "    <tr style=\"text-align: right;\">\n",
       "      <th></th>\n",
       "      <th>index</th>\n",
       "      <th>user_id</th>\n",
       "      <th>test_group</th>\n",
       "      <th>converted</th>\n",
       "      <th>total_ads</th>\n",
       "      <th>most_ads_day</th>\n",
       "      <th>most_ads_hour</th>\n",
       "    </tr>\n",
       "  </thead>\n",
       "  <tbody>\n",
       "    <tr>\n",
       "      <th>0</th>\n",
       "      <td>0</td>\n",
       "      <td>1069124</td>\n",
       "      <td>ad</td>\n",
       "      <td>False</td>\n",
       "      <td>130</td>\n",
       "      <td>Monday</td>\n",
       "      <td>20</td>\n",
       "    </tr>\n",
       "    <tr>\n",
       "      <th>1</th>\n",
       "      <td>1</td>\n",
       "      <td>1119715</td>\n",
       "      <td>ad</td>\n",
       "      <td>False</td>\n",
       "      <td>93</td>\n",
       "      <td>Tuesday</td>\n",
       "      <td>22</td>\n",
       "    </tr>\n",
       "    <tr>\n",
       "      <th>2</th>\n",
       "      <td>2</td>\n",
       "      <td>1144181</td>\n",
       "      <td>ad</td>\n",
       "      <td>False</td>\n",
       "      <td>21</td>\n",
       "      <td>Tuesday</td>\n",
       "      <td>18</td>\n",
       "    </tr>\n",
       "    <tr>\n",
       "      <th>3</th>\n",
       "      <td>3</td>\n",
       "      <td>1435133</td>\n",
       "      <td>ad</td>\n",
       "      <td>False</td>\n",
       "      <td>355</td>\n",
       "      <td>Tuesday</td>\n",
       "      <td>10</td>\n",
       "    </tr>\n",
       "    <tr>\n",
       "      <th>4</th>\n",
       "      <td>4</td>\n",
       "      <td>1015700</td>\n",
       "      <td>ad</td>\n",
       "      <td>False</td>\n",
       "      <td>276</td>\n",
       "      <td>Friday</td>\n",
       "      <td>14</td>\n",
       "    </tr>\n",
       "    <tr>\n",
       "      <th>5</th>\n",
       "      <td>5</td>\n",
       "      <td>1137664</td>\n",
       "      <td>ad</td>\n",
       "      <td>False</td>\n",
       "      <td>734</td>\n",
       "      <td>Saturday</td>\n",
       "      <td>10</td>\n",
       "    </tr>\n",
       "    <tr>\n",
       "      <th>6</th>\n",
       "      <td>6</td>\n",
       "      <td>1116205</td>\n",
       "      <td>ad</td>\n",
       "      <td>False</td>\n",
       "      <td>264</td>\n",
       "      <td>Wednesday</td>\n",
       "      <td>13</td>\n",
       "    </tr>\n",
       "    <tr>\n",
       "      <th>7</th>\n",
       "      <td>7</td>\n",
       "      <td>1496843</td>\n",
       "      <td>ad</td>\n",
       "      <td>False</td>\n",
       "      <td>17</td>\n",
       "      <td>Sunday</td>\n",
       "      <td>18</td>\n",
       "    </tr>\n",
       "    <tr>\n",
       "      <th>8</th>\n",
       "      <td>8</td>\n",
       "      <td>1448851</td>\n",
       "      <td>ad</td>\n",
       "      <td>False</td>\n",
       "      <td>21</td>\n",
       "      <td>Tuesday</td>\n",
       "      <td>19</td>\n",
       "    </tr>\n",
       "    <tr>\n",
       "      <th>9</th>\n",
       "      <td>9</td>\n",
       "      <td>1446284</td>\n",
       "      <td>ad</td>\n",
       "      <td>False</td>\n",
       "      <td>142</td>\n",
       "      <td>Monday</td>\n",
       "      <td>14</td>\n",
       "    </tr>\n",
       "  </tbody>\n",
       "</table>\n",
       "</div>"
      ],
      "text/plain": [
       "   index  user_id test_group  converted  total_ads most_ads_day  most_ads_hour\n",
       "0      0  1069124         ad      False        130       Monday             20\n",
       "1      1  1119715         ad      False         93      Tuesday             22\n",
       "2      2  1144181         ad      False         21      Tuesday             18\n",
       "3      3  1435133         ad      False        355      Tuesday             10\n",
       "4      4  1015700         ad      False        276       Friday             14\n",
       "5      5  1137664         ad      False        734     Saturday             10\n",
       "6      6  1116205         ad      False        264    Wednesday             13\n",
       "7      7  1496843         ad      False         17       Sunday             18\n",
       "8      8  1448851         ad      False         21      Tuesday             19\n",
       "9      9  1446284         ad      False        142       Monday             14"
      ]
     },
     "metadata": {},
     "output_type": "display_data"
    },
    {
     "name": "stdout",
     "output_type": "stream",
     "text": [
      "\n",
      "\n",
      "Data Dimensions:\n"
     ]
    },
    {
     "data": {
      "text/plain": [
       "(588101, 7)"
      ]
     },
     "metadata": {},
     "output_type": "display_data"
    },
    {
     "name": "stdout",
     "output_type": "stream",
     "text": [
      "\n",
      "\n",
      "information about the data:\n",
      "<class 'pandas.core.frame.DataFrame'>\n",
      "RangeIndex: 588101 entries, 0 to 588100\n",
      "Data columns (total 7 columns):\n",
      " #   Column         Non-Null Count   Dtype \n",
      "---  ------         --------------   ----- \n",
      " 0   index          588101 non-null  int64 \n",
      " 1   user_id        588101 non-null  int64 \n",
      " 2   test_group     588101 non-null  object\n",
      " 3   converted      588101 non-null  bool  \n",
      " 4   total_ads      588101 non-null  int64 \n",
      " 5   most_ads_day   588101 non-null  object\n",
      " 6   most_ads_hour  588101 non-null  int64 \n",
      "dtypes: bool(1), int64(4), object(2)\n",
      "memory usage: 27.5+ MB\n"
     ]
    },
    {
     "data": {
      "text/plain": [
       "None"
      ]
     },
     "metadata": {},
     "output_type": "display_data"
    },
    {
     "name": "stdout",
     "output_type": "stream",
     "text": [
      "\n",
      "\n",
      "statistical measures of each column:\n"
     ]
    },
    {
     "data": {
      "text/html": [
       "<div>\n",
       "<style scoped>\n",
       "    .dataframe tbody tr th:only-of-type {\n",
       "        vertical-align: middle;\n",
       "    }\n",
       "\n",
       "    .dataframe tbody tr th {\n",
       "        vertical-align: top;\n",
       "    }\n",
       "\n",
       "    .dataframe thead th {\n",
       "        text-align: right;\n",
       "    }\n",
       "</style>\n",
       "<table border=\"1\" class=\"dataframe\">\n",
       "  <thead>\n",
       "    <tr style=\"text-align: right;\">\n",
       "      <th></th>\n",
       "      <th>count</th>\n",
       "      <th>mean</th>\n",
       "      <th>std</th>\n",
       "      <th>min</th>\n",
       "      <th>25%</th>\n",
       "      <th>50%</th>\n",
       "      <th>75%</th>\n",
       "      <th>max</th>\n",
       "    </tr>\n",
       "  </thead>\n",
       "  <tbody>\n",
       "    <tr>\n",
       "      <th>total_ads</th>\n",
       "      <td>588101.0</td>\n",
       "      <td>24.820876</td>\n",
       "      <td>43.715181</td>\n",
       "      <td>1.0</td>\n",
       "      <td>4.0</td>\n",
       "      <td>13.0</td>\n",
       "      <td>27.0</td>\n",
       "      <td>2065.0</td>\n",
       "    </tr>\n",
       "    <tr>\n",
       "      <th>most_ads_hour</th>\n",
       "      <td>588101.0</td>\n",
       "      <td>14.469061</td>\n",
       "      <td>4.834634</td>\n",
       "      <td>0.0</td>\n",
       "      <td>11.0</td>\n",
       "      <td>14.0</td>\n",
       "      <td>18.0</td>\n",
       "      <td>23.0</td>\n",
       "    </tr>\n",
       "  </tbody>\n",
       "</table>\n",
       "</div>"
      ],
      "text/plain": [
       "                  count       mean        std  min   25%   50%   75%     max\n",
       "total_ads      588101.0  24.820876  43.715181  1.0   4.0  13.0  27.0  2065.0\n",
       "most_ads_hour  588101.0  14.469061   4.834634  0.0  11.0  14.0  18.0    23.0"
      ]
     },
     "metadata": {},
     "output_type": "display_data"
    }
   ],
   "source": [
    "# Basics:\n",
    "print(\"First 10 rows of dataset:\")\n",
    "display(base_df.head(10))\n",
    "\n",
    "print(\"\\n\\nData Dimensions:\")\n",
    "display(base_df.shape)\n",
    "\n",
    "print(\"\\n\\ninformation about the data:\")\n",
    "display(base_df.info())\n",
    "\n",
    "print(\"\\n\\nstatistical measures of each column:\")\n",
    "display(base_df[['total_ads','most_ads_hour']].describe().T)"
   ]
  },
  {
   "cell_type": "code",
   "execution_count": 4,
   "id": "8cd746b7",
   "metadata": {
    "execution": {
     "iopub.execute_input": "2025-08-13T20:26:34.281413Z",
     "iopub.status.busy": "2025-08-13T20:26:34.281081Z",
     "iopub.status.idle": "2025-08-13T20:26:35.507942Z",
     "shell.execute_reply": "2025-08-13T20:26:35.507087Z"
    },
    "papermill": {
     "duration": 1.237202,
     "end_time": "2025-08-13T20:26:35.509558",
     "exception": false,
     "start_time": "2025-08-13T20:26:34.272356",
     "status": "completed"
    },
    "tags": []
   },
   "outputs": [
    {
     "data": {
      "text/html": [
       "<div>\n",
       "<style scoped>\n",
       "    .dataframe tbody tr th:only-of-type {\n",
       "        vertical-align: middle;\n",
       "    }\n",
       "\n",
       "    .dataframe tbody tr th {\n",
       "        vertical-align: top;\n",
       "    }\n",
       "\n",
       "    .dataframe thead th {\n",
       "        text-align: right;\n",
       "    }\n",
       "</style>\n",
       "<table border=\"1\" class=\"dataframe\">\n",
       "  <thead>\n",
       "    <tr style=\"text-align: right;\">\n",
       "      <th></th>\n",
       "      <th>user_cnt</th>\n",
       "    </tr>\n",
       "  </thead>\n",
       "  <tbody>\n",
       "    <tr>\n",
       "      <th>0</th>\n",
       "      <td>588101</td>\n",
       "    </tr>\n",
       "  </tbody>\n",
       "</table>\n",
       "</div>"
      ],
      "text/plain": [
       "   user_cnt\n",
       "0    588101"
      ]
     },
     "execution_count": 4,
     "metadata": {},
     "output_type": "execute_result"
    }
   ],
   "source": [
    "### check distinct user count\n",
    "query = \"\"\"\n",
    "  SELECT count(distinct user_id) as user_cnt\n",
    "    FROM ab_testing\n",
    "\"\"\"\n",
    "\n",
    "df = pd.read_sql_query(query, conn)\n",
    "df.head()"
   ]
  },
  {
   "cell_type": "markdown",
   "id": "0559ae60",
   "metadata": {
    "papermill": {
     "duration": 0.007231,
     "end_time": "2025-08-13T20:26:35.524662",
     "exception": false,
     "start_time": "2025-08-13T20:26:35.517431",
     "status": "completed"
    },
    "tags": []
   },
   "source": [
    "### 3.2 Analysis per Testing Group"
   ]
  },
  {
   "cell_type": "markdown",
   "id": "fd67dafe",
   "metadata": {
    "papermill": {
     "duration": 0.007111,
     "end_time": "2025-08-13T20:26:35.539276",
     "exception": false,
     "start_time": "2025-08-13T20:26:35.532165",
     "status": "completed"
    },
    "tags": []
   },
   "source": [
    "Next, I focused on comparing the treatment and control groups by calculating two key performance metrics for each: the conversion rate and the average number of ads viewed. These measures provide an initial indication of user engagement and potential campaign effectiveness before conducting formal statistical testing."
   ]
  },
  {
   "cell_type": "code",
   "execution_count": 5,
   "id": "b8835b5a",
   "metadata": {
    "execution": {
     "iopub.execute_input": "2025-08-13T20:26:35.555836Z",
     "iopub.status.busy": "2025-08-13T20:26:35.555520Z",
     "iopub.status.idle": "2025-08-13T20:26:37.138768Z",
     "shell.execute_reply": "2025-08-13T20:26:37.137874Z"
    },
    "papermill": {
     "duration": 1.593394,
     "end_time": "2025-08-13T20:26:37.140341",
     "exception": false,
     "start_time": "2025-08-13T20:26:35.546947",
     "status": "completed"
    },
    "tags": []
   },
   "outputs": [
    {
     "data": {
      "text/html": [
       "<div>\n",
       "<style scoped>\n",
       "    .dataframe tbody tr th:only-of-type {\n",
       "        vertical-align: middle;\n",
       "    }\n",
       "\n",
       "    .dataframe tbody tr th {\n",
       "        vertical-align: top;\n",
       "    }\n",
       "\n",
       "    .dataframe thead th {\n",
       "        text-align: right;\n",
       "    }\n",
       "</style>\n",
       "<table border=\"1\" class=\"dataframe\">\n",
       "  <thead>\n",
       "    <tr style=\"text-align: right;\">\n",
       "      <th></th>\n",
       "      <th>test_group</th>\n",
       "      <th>user_cnt</th>\n",
       "      <th>conversion_pct</th>\n",
       "      <th>total_ads</th>\n",
       "      <th>avg_ads</th>\n",
       "    </tr>\n",
       "  </thead>\n",
       "  <tbody>\n",
       "    <tr>\n",
       "      <th>0</th>\n",
       "      <td>ad</td>\n",
       "      <td>564577</td>\n",
       "      <td>2.55%</td>\n",
       "      <td>14014701</td>\n",
       "      <td>24.82</td>\n",
       "    </tr>\n",
       "    <tr>\n",
       "      <th>1</th>\n",
       "      <td>psa</td>\n",
       "      <td>23524</td>\n",
       "      <td>1.79%</td>\n",
       "      <td>582481</td>\n",
       "      <td>24.76</td>\n",
       "    </tr>\n",
       "  </tbody>\n",
       "</table>\n",
       "</div>"
      ],
      "text/plain": [
       "  test_group  user_cnt conversion_pct  total_ads  avg_ads\n",
       "0         ad    564577          2.55%   14014701    24.82\n",
       "1        psa     23524          1.79%     582481    24.76"
      ]
     },
     "execution_count": 5,
     "metadata": {},
     "output_type": "execute_result"
    }
   ],
   "source": [
    "### analysis per testing group\n",
    "query = \"\"\"\n",
    "  SELECT \n",
    "  test_group,\n",
    "  count(distinct user_id) as user_cnt,\n",
    "  round(avg(converted)*100,2) || '%' as conversion_pct,\n",
    "  sum(total_ads) as total_ads,\n",
    "  round(avg(total_ads),2) as avg_ads\n",
    "    FROM ab_testing\n",
    "    group by 1\n",
    "\"\"\"\n",
    "\n",
    "df = pd.read_sql_query(query, conn)\n",
    "df.head()\n",
    "\n"
   ]
  },
  {
   "cell_type": "markdown",
   "id": "e4b8e242",
   "metadata": {
    "papermill": {
     "duration": 0.00729,
     "end_time": "2025-08-13T20:26:37.155426",
     "exception": false,
     "start_time": "2025-08-13T20:26:37.148136",
     "status": "completed"
    },
    "tags": []
   },
   "source": [
    "From the summary table above, it is evident that the majority of participants were assigned to the treatment group. However, the average number of ads viewed per person was nearly identical between the two groups. This suggests that the A/B test was implemented correctly, with balanced exposure in terms of ad placement and frequency.\n",
    "\n",
    "While the conversion rate for the ad group is higher than that of the PSA group, this observed difference alone does not necessarily prove that the ad outperforms the PSA. Further statistical testing is required to determine whether the difference is statistically significant and not simply due to random variation."
   ]
  },
  {
   "cell_type": "markdown",
   "id": "acc4d0fe",
   "metadata": {
    "papermill": {
     "duration": 0.008003,
     "end_time": "2025-08-13T20:26:37.170880",
     "exception": false,
     "start_time": "2025-08-13T20:26:37.162877",
     "status": "completed"
    },
    "tags": []
   },
   "source": [
    "### 3.3  Conversion Rate by Day of the Week & Hour of the Day"
   ]
  },
  {
   "cell_type": "markdown",
   "id": "6575aad0",
   "metadata": {
    "papermill": {
     "duration": 0.007919,
     "end_time": "2025-08-13T20:26:37.186558",
     "exception": false,
     "start_time": "2025-08-13T20:26:37.178639",
     "status": "completed"
    },
    "tags": []
   },
   "source": [
    "Let's take a closer look on conversion rate. \n",
    "How it varied across different days of the week and hours of the day for each group? This breakdown helps identify potential temporal patterns in user behavior and determine whether the ad and PSA groups responded differently depending on when they were exposed to the content."
   ]
  },
  {
   "cell_type": "code",
   "execution_count": 6,
   "id": "0e5dcb51",
   "metadata": {
    "execution": {
     "iopub.execute_input": "2025-08-13T20:26:37.204444Z",
     "iopub.status.busy": "2025-08-13T20:26:37.203645Z",
     "iopub.status.idle": "2025-08-13T20:26:37.883374Z",
     "shell.execute_reply": "2025-08-13T20:26:37.882391Z"
    },
    "papermill": {
     "duration": 0.690415,
     "end_time": "2025-08-13T20:26:37.884983",
     "exception": false,
     "start_time": "2025-08-13T20:26:37.194568",
     "status": "completed"
    },
    "tags": []
   },
   "outputs": [
    {
     "data": {
      "image/png": "[encoded data removed]",
      "text/plain": [
       "<Figure size 1000x600 with 1 Axes>"
      ]
     },
     "metadata": {},
     "output_type": "display_data"
    }
   ],
   "source": [
    "# ad group: conversion rate by day of the week \n",
    "query =\"\"\"\n",
    "    SELECT \n",
    "      most_ads_day,\n",
    "      round(avg(converted)*100,2) as conversion_rate\n",
    "    FROM ab_testing\n",
    "    where test_group = 'ad'\n",
    "    group by 1\n",
    "    order by 2 desc \n",
    "\"\"\"\n",
    "df = pd.read_sql_query(query, conn)\n",
    "\n",
    "#create figure\n",
    "plt.figure(figsize=(10, 6))\n",
    "ax = sns.barplot(data=df, x='most_ads_day', y='conversion_rate',order = df['most_ads_day'].tolist(),palette ='Oranges')\n",
    "plt.title('Ad: Conversion Rate by Day of the Week ')\n",
    "plt.xlabel('Day of the Week')\n",
    "plt.ylabel('Conversion Rate')\n",
    "for p in ax.patches:\n",
    "    count = p.get_height()\n",
    "    plt.annotate(f\"{count:.2f}%\", (p.get_x() + p.get_width() / 2, p.get_height()), \n",
    "                 ha='center', va='bottom',fontsize=9)\n",
    "plt.show()"
   ]
  },
  {
   "cell_type": "code",
   "execution_count": 7,
   "id": "998b8413",
   "metadata": {
    "execution": {
     "iopub.execute_input": "2025-08-13T20:26:37.904370Z",
     "iopub.status.busy": "2025-08-13T20:26:37.904026Z",
     "iopub.status.idle": "2025-08-13T20:26:38.162287Z",
     "shell.execute_reply": "2025-08-13T20:26:38.161253Z"
    },
    "papermill": {
     "duration": 0.269976,
     "end_time": "2025-08-13T20:26:38.163741",
     "exception": false,
     "start_time": "2025-08-13T20:26:37.893765",
     "status": "completed"
    },
    "tags": []
   },
   "outputs": [
    {
     "data": {
      "image/png": "[encoded data removed]",
      "text/plain": [
       "<Figure size 1000x600 with 1 Axes>"
      ]
     },
     "metadata": {},
     "output_type": "display_data"
    }
   ],
   "source": [
    "# psa group: conversion rate by day of the week \n",
    "query =\"\"\"\n",
    "    SELECT \n",
    "      most_ads_day,\n",
    "      round(avg(converted)*100,2) as conversion_rate\n",
    "    FROM ab_testing\n",
    "    where test_group = 'psa'\n",
    "    group by 1\n",
    "    order by 2 desc \n",
    "\"\"\"\n",
    "df = pd.read_sql_query(query, conn)\n",
    "\n",
    "#create figure\n",
    "plt.figure(figsize=(10, 6))\n",
    "ax = sns.barplot(data=df, x='most_ads_day', y='conversion_rate',order = df['most_ads_day'].tolist(),palette ='Oranges')\n",
    "plt.title('PSA:Conversion Rate by Day of the Week ')\n",
    "plt.xlabel('Day of the Week')\n",
    "plt.ylabel('Conversion Rate')\n",
    "for p in ax.patches:\n",
    "    count = p.get_height()\n",
    "    plt.annotate(f\"{count:.2f}%\", (p.get_x() + p.get_width() / 2, p.get_height()), \n",
    "                 ha='center', va='bottom',fontsize=9)\n",
    "plt.show()"
   ]
  },
  {
   "cell_type": "markdown",
   "id": "b3cd1962",
   "metadata": {
    "papermill": {
     "duration": 0.009213,
     "end_time": "2025-08-13T20:26:38.246632",
     "exception": false,
     "start_time": "2025-08-13T20:26:38.237419",
     "status": "completed"
    },
    "tags": []
   },
   "source": [
    "From the two plots, several business insights can be drawn:\n",
    "\n",
    "-  Overall Performance – The conversion rate of the ad group is consistently higher than that of the PSA group across most time periods.\n",
    "\n",
    "-  Shift in User Behavior Patterns – The introduction of the new ad appears to have influenced when users are most likely to convert. Specifically, the highest conversion rates for the ad group occur from Monday to Wednesday, whereas the PSA group’s peak conversion times are on Monday, Sunday, and Thursday.\n",
    "\n",
    "These findings suggest that the new ad not only improves overall conversion but may also alter user engagement patterns throughout the week, which could be leveraged for optimized ad scheduling in future campaigns."
   ]
  },
  {
   "cell_type": "markdown",
   "id": "078e3f3d",
   "metadata": {
    "papermill": {
     "duration": 0.008666,
     "end_time": "2025-08-13T20:26:38.264228",
     "exception": false,
     "start_time": "2025-08-13T20:26:38.255562",
     "status": "completed"
    },
    "tags": []
   },
   "source": [
    "Now let's see the plots by hour of the day："
   ]
  },
  {
   "cell_type": "code",
   "execution_count": 8,
   "id": "d389370b",
   "metadata": {
    "execution": {
     "iopub.execute_input": "2025-08-13T20:26:38.283713Z",
     "iopub.status.busy": "2025-08-13T20:26:38.283401Z",
     "iopub.status.idle": "2025-08-13T20:26:38.957615Z",
     "shell.execute_reply": "2025-08-13T20:26:38.956415Z"
    },
    "papermill": {
     "duration": 0.686138,
     "end_time": "2025-08-13T20:26:38.959306",
     "exception": false,
     "start_time": "2025-08-13T20:26:38.273168",
     "status": "completed"
    },
    "tags": []
   },
   "outputs": [
    {
     "data": {
      "image/png": "[encoded data removed]",
      "text/plain": [
       "<Figure size 1500x600 with 1 Axes>"
      ]
     },
     "metadata": {},
     "output_type": "display_data"
    }
   ],
   "source": [
    "# ad:conversion rate by hour of the day \n",
    "query =\"\"\"\n",
    "    SELECT \n",
    "      most_ads_hour,\n",
    "      round(avg(converted)*100,2) as conversion_rate\n",
    "    FROM ab_testing\n",
    "    where test_group = 'ad' \n",
    "    group by 1\n",
    "    order by 2 desc \n",
    "\"\"\"\n",
    "df = pd.read_sql_query(query, conn)\n",
    "\n",
    "#create figure\n",
    "plt.figure(figsize=(15, 6))\n",
    "ax = sns.barplot(data=df, x='most_ads_hour', y='conversion_rate',palette ='Greens')\n",
    "plt.title('Conversion Rate by Hour of the Day')\n",
    "plt.xlabel('Hours')\n",
    "plt.ylabel('Conversion Rate')\n",
    "for p in ax.patches:\n",
    "    count = p.get_height()\n",
    "    plt.annotate(f\"{count:.2f}%\", (p.get_x() + p.get_width() / 2, p.get_height()), \n",
    "                 ha='center', va='bottom',fontsize=9)\n",
    "plt.show()"
   ]
  },
  {
   "cell_type": "code",
   "execution_count": 9,
   "id": "dfaee82e",
   "metadata": {
    "execution": {
     "iopub.execute_input": "2025-08-13T20:26:38.980534Z",
     "iopub.status.busy": "2025-08-13T20:26:38.980206Z",
     "iopub.status.idle": "2025-08-13T20:26:39.430296Z",
     "shell.execute_reply": "2025-08-13T20:26:39.429106Z"
    },
    "papermill": {
     "duration": 0.462605,
     "end_time": "2025-08-13T20:26:39.432045",
     "exception": false,
     "start_time": "2025-08-13T20:26:38.969440",
     "status": "completed"
    },
    "tags": []
   },
   "outputs": [
    {
     "data": {
      "image/png": "[encoded data removed]",
      "text/plain": [
       "<Figure size 1500x600 with 1 Axes>"
      ]
     },
     "metadata": {},
     "output_type": "display_data"
    }
   ],
   "source": [
    "#psa: conversion rate by hour of the day \n",
    "query =\"\"\"\n",
    "    SELECT \n",
    "      most_ads_hour,\n",
    "      round(avg(converted)*100,2) as conversion_rate\n",
    "    FROM ab_testing\n",
    "    where test_group = 'psa' \n",
    "    group by 1\n",
    "    order by 2 desc \n",
    "\"\"\"\n",
    "df = pd.read_sql_query(query, conn)\n",
    "\n",
    "#create figure\n",
    "plt.figure(figsize=(15, 6))\n",
    "ax = sns.barplot(data=df, x='most_ads_hour', y='conversion_rate',palette ='Greens')\n",
    "plt.title('Conversion Rate by Hour of the Day')\n",
    "plt.xlabel('Hours')\n",
    "plt.ylabel('Conversion Rate')\n",
    "for p in ax.patches:\n",
    "    count = p.get_height()\n",
    "    plt.annotate(f\"{count:.2f}%\", (p.get_x() + p.get_width() / 2, p.get_height()), \n",
    "                 ha='center', va='bottom',fontsize=9)\n",
    "plt.show()"
   ]
  },
  {
   "cell_type": "markdown",
   "id": "e615abf0",
   "metadata": {
    "papermill": {
     "duration": 0.01107,
     "end_time": "2025-08-13T20:26:39.454926",
     "exception": false,
     "start_time": "2025-08-13T20:26:39.443856",
     "status": "completed"
    },
    "tags": []
   },
   "source": [
    "Similar to the day-of-week analysis, the ad group consistently outperforms the PSA group in the hour-of-day breakdown. The data indicates that the highest conversion rates for the ad group occur during two key time windows: afternoon hours between 2:00 PM and 5:00 PM (peaking at 4:00 PM) and evening hours between 8:00 PM and 10:00 PM (peaking at 8:00 PM).\n",
    "\n",
    "These time patterns suggest that ad exposure during these periods may be particularly effective, providing valuable guidance for optimizing future ad placement schedules to maximize conversions.\n",
    "\n"
   ]
  },
  {
   "cell_type": "markdown",
   "id": "2ebbd533",
   "metadata": {
    "papermill": {
     "duration": 0.010807,
     "end_time": "2025-08-13T20:26:39.476766",
     "exception": false,
     "start_time": "2025-08-13T20:26:39.465959",
     "status": "completed"
    },
    "tags": []
   },
   "source": [
    "### 3.4 Most Ads Seen by Day of the Week"
   ]
  },
  {
   "cell_type": "code",
   "execution_count": 10,
   "id": "87a094da",
   "metadata": {
    "execution": {
     "iopub.execute_input": "2025-08-13T20:26:39.501488Z",
     "iopub.status.busy": "2025-08-13T20:26:39.501116Z",
     "iopub.status.idle": "2025-08-13T20:26:40.018495Z",
     "shell.execute_reply": "2025-08-13T20:26:40.017613Z"
    },
    "papermill": {
     "duration": 0.532189,
     "end_time": "2025-08-13T20:26:40.019952",
     "exception": false,
     "start_time": "2025-08-13T20:26:39.487763",
     "status": "completed"
    },
    "tags": []
   },
   "outputs": [
    {
     "data": {
      "image/png": "[encoded data removed]",
      "text/plain": [
       "<Figure size 1000x600 with 1 Axes>"
      ]
     },
     "metadata": {},
     "output_type": "display_data"
    }
   ],
   "source": [
    "### Most Ads Seen by Day of the Week \n",
    "query = \"\"\"\n",
    "  SELECT \n",
    "  most_ads_day,\n",
    "  count(*) as count\n",
    "    FROM ab_testing\n",
    "    group by 1\n",
    "    order by 2 desc\n",
    "\"\"\"\n",
    "\n",
    "df = pd.read_sql_query(query, conn)\n",
    "\n",
    "#create figure\n",
    "plt.figure(figsize=(10, 6))\n",
    "ax = sns.barplot(data=df, x='most_ads_day',y='count',order= df['most_ads_day'].tolist(),palette = 'GnBu')\n",
    "\n",
    "for p in ax.patches:\n",
    "    count = int(p.get_height())\n",
    "    plt.annotate(count, (p.get_x() + p.get_width() / 2, p.get_height()), \n",
    "                 ha='center', va='bottom',fontsize=9)\n",
    "plt.title('Most Ads Seen by Day of the Week ')\n",
    "plt.show()"
   ]
  },
  {
   "cell_type": "markdown",
   "id": "621e7f04",
   "metadata": {
    "papermill": {
     "duration": 0.011926,
     "end_time": "2025-08-13T20:26:40.044027",
     "exception": false,
     "start_time": "2025-08-13T20:26:40.032101",
     "status": "completed"
    },
    "tags": []
   },
   "source": [
    "Interestingly, the data shows that Friday is the day with the highest number of ad impressions, which may be attributed to a higher ad delivery volume on that day. However, when compared with the conversion rate analysis, Friday’s conversion rate is relatively low. This suggests that Friday may not be the most effective day for ad placement. Instead, allocating more ad delivery to Monday, which shows a stronger conversion rate, could yield better results."
   ]
  },
  {
   "cell_type": "markdown",
   "id": "b349e8d3",
   "metadata": {
    "papermill": {
     "duration": 0.011607,
     "end_time": "2025-08-13T20:26:40.067720",
     "exception": false,
     "start_time": "2025-08-13T20:26:40.056113",
     "status": "completed"
    },
    "tags": []
   },
   "source": [
    "### 3.5 Top 10 Most Ads Seen by Day and Hour - Treatment vs. Control"
   ]
  },
  {
   "cell_type": "code",
   "execution_count": 11,
   "id": "ca9cf7c4",
   "metadata": {
    "execution": {
     "iopub.execute_input": "2025-08-13T20:26:40.092588Z",
     "iopub.status.busy": "2025-08-13T20:26:40.092235Z",
     "iopub.status.idle": "2025-08-13T20:26:41.016769Z",
     "shell.execute_reply": "2025-08-13T20:26:41.015878Z"
    },
    "papermill": {
     "duration": 0.939011,
     "end_time": "2025-08-13T20:26:41.018462",
     "exception": false,
     "start_time": "2025-08-13T20:26:40.079451",
     "status": "completed"
    },
    "tags": []
   },
   "outputs": [
    {
     "data": {
      "text/html": [
       "<div>\n",
       "<style scoped>\n",
       "    .dataframe tbody tr th:only-of-type {\n",
       "        vertical-align: middle;\n",
       "    }\n",
       "\n",
       "    .dataframe tbody tr th {\n",
       "        vertical-align: top;\n",
       "    }\n",
       "\n",
       "    .dataframe thead th {\n",
       "        text-align: right;\n",
       "    }\n",
       "</style>\n",
       "<table border=\"1\" class=\"dataframe\">\n",
       "  <thead>\n",
       "    <tr style=\"text-align: right;\">\n",
       "      <th></th>\n",
       "      <th>test_group</th>\n",
       "      <th>most_ads_day</th>\n",
       "      <th>most_ads_hour</th>\n",
       "      <th>conv_rate</th>\n",
       "    </tr>\n",
       "  </thead>\n",
       "  <tbody>\n",
       "    <tr>\n",
       "      <th>0</th>\n",
       "      <td>ad</td>\n",
       "      <td>Saturday</td>\n",
       "      <td>5</td>\n",
       "      <td>5.68%</td>\n",
       "    </tr>\n",
       "    <tr>\n",
       "      <th>1</th>\n",
       "      <td>ad</td>\n",
       "      <td>Saturday</td>\n",
       "      <td>6</td>\n",
       "      <td>5.16%</td>\n",
       "    </tr>\n",
       "    <tr>\n",
       "      <th>2</th>\n",
       "      <td>ad</td>\n",
       "      <td>Tuesday</td>\n",
       "      <td>16</td>\n",
       "      <td>4.56%</td>\n",
       "    </tr>\n",
       "    <tr>\n",
       "      <th>3</th>\n",
       "      <td>ad</td>\n",
       "      <td>Monday</td>\n",
       "      <td>14</td>\n",
       "      <td>4.49%</td>\n",
       "    </tr>\n",
       "    <tr>\n",
       "      <th>4</th>\n",
       "      <td>ad</td>\n",
       "      <td>Sunday</td>\n",
       "      <td>20</td>\n",
       "      <td>4.37%</td>\n",
       "    </tr>\n",
       "    <tr>\n",
       "      <th>5</th>\n",
       "      <td>ad</td>\n",
       "      <td>Monday</td>\n",
       "      <td>15</td>\n",
       "      <td>4.29%</td>\n",
       "    </tr>\n",
       "    <tr>\n",
       "      <th>6</th>\n",
       "      <td>ad</td>\n",
       "      <td>Monday</td>\n",
       "      <td>6</td>\n",
       "      <td>4.2%</td>\n",
       "    </tr>\n",
       "    <tr>\n",
       "      <th>7</th>\n",
       "      <td>ad</td>\n",
       "      <td>Tuesday</td>\n",
       "      <td>15</td>\n",
       "      <td>4.12%</td>\n",
       "    </tr>\n",
       "    <tr>\n",
       "      <th>8</th>\n",
       "      <td>ad</td>\n",
       "      <td>Monday</td>\n",
       "      <td>16</td>\n",
       "      <td>3.74%</td>\n",
       "    </tr>\n",
       "    <tr>\n",
       "      <th>9</th>\n",
       "      <td>ad</td>\n",
       "      <td>Sunday</td>\n",
       "      <td>21</td>\n",
       "      <td>3.67%</td>\n",
       "    </tr>\n",
       "  </tbody>\n",
       "</table>\n",
       "</div>"
      ],
      "text/plain": [
       "  test_group most_ads_day  most_ads_hour conv_rate\n",
       "0         ad     Saturday              5     5.68%\n",
       "1         ad     Saturday              6     5.16%\n",
       "2         ad      Tuesday             16     4.56%\n",
       "3         ad       Monday             14     4.49%\n",
       "4         ad       Sunday             20     4.37%\n",
       "5         ad       Monday             15     4.29%\n",
       "6         ad       Monday              6      4.2%\n",
       "7         ad      Tuesday             15     4.12%\n",
       "8         ad       Monday             16     3.74%\n",
       "9         ad       Sunday             21     3.67%"
      ]
     },
     "metadata": {},
     "output_type": "display_data"
    }
   ],
   "source": [
    "### Ad: Top 10 most ads day and hours conversion rate\n",
    "query = \"\"\"\n",
    "  SELECT \n",
    "  test_group,\n",
    "  most_ads_day,\n",
    "  most_ads_hour,\n",
    "  round(avg(converted) * 100,2) || '%' as conv_rate\n",
    "    FROM ab_testing\n",
    "    where test_group = 'ad'\n",
    "    group by 1,2,3\n",
    "    order by 4 desc\n",
    "    limit 10\n",
    "  \n",
    "\"\"\"\n",
    "df = pd.read_sql_query(query, conn)\n",
    "display(df)"
   ]
  },
  {
   "cell_type": "code",
   "execution_count": 12,
   "id": "21e8a740",
   "metadata": {
    "execution": {
     "iopub.execute_input": "2025-08-13T20:26:41.044145Z",
     "iopub.status.busy": "2025-08-13T20:26:41.043677Z",
     "iopub.status.idle": "2025-08-13T20:26:41.133406Z",
     "shell.execute_reply": "2025-08-13T20:26:41.132460Z"
    },
    "papermill": {
     "duration": 0.104188,
     "end_time": "2025-08-13T20:26:41.134943",
     "exception": false,
     "start_time": "2025-08-13T20:26:41.030755",
     "status": "completed"
    },
    "tags": []
   },
   "outputs": [
    {
     "data": {
      "text/html": [
       "<div>\n",
       "<style scoped>\n",
       "    .dataframe tbody tr th:only-of-type {\n",
       "        vertical-align: middle;\n",
       "    }\n",
       "\n",
       "    .dataframe tbody tr th {\n",
       "        vertical-align: top;\n",
       "    }\n",
       "\n",
       "    .dataframe thead th {\n",
       "        text-align: right;\n",
       "    }\n",
       "</style>\n",
       "<table border=\"1\" class=\"dataframe\">\n",
       "  <thead>\n",
       "    <tr style=\"text-align: right;\">\n",
       "      <th></th>\n",
       "      <th>test_group</th>\n",
       "      <th>most_ads_day</th>\n",
       "      <th>most_ads_hour</th>\n",
       "      <th>conv_rate</th>\n",
       "    </tr>\n",
       "  </thead>\n",
       "  <tbody>\n",
       "    <tr>\n",
       "      <th>0</th>\n",
       "      <td>psa</td>\n",
       "      <td>Friday</td>\n",
       "      <td>19</td>\n",
       "      <td>3.89%</td>\n",
       "    </tr>\n",
       "    <tr>\n",
       "      <th>1</th>\n",
       "      <td>psa</td>\n",
       "      <td>Tuesday</td>\n",
       "      <td>16</td>\n",
       "      <td>3.77%</td>\n",
       "    </tr>\n",
       "    <tr>\n",
       "      <th>2</th>\n",
       "      <td>psa</td>\n",
       "      <td>Thursday</td>\n",
       "      <td>22</td>\n",
       "      <td>3.75%</td>\n",
       "    </tr>\n",
       "    <tr>\n",
       "      <th>3</th>\n",
       "      <td>psa</td>\n",
       "      <td>Saturday</td>\n",
       "      <td>7</td>\n",
       "      <td>3.7%</td>\n",
       "    </tr>\n",
       "    <tr>\n",
       "      <th>4</th>\n",
       "      <td>psa</td>\n",
       "      <td>Wednesday</td>\n",
       "      <td>16</td>\n",
       "      <td>3.7%</td>\n",
       "    </tr>\n",
       "    <tr>\n",
       "      <th>5</th>\n",
       "      <td>psa</td>\n",
       "      <td>Sunday</td>\n",
       "      <td>15</td>\n",
       "      <td>3.65%</td>\n",
       "    </tr>\n",
       "    <tr>\n",
       "      <th>6</th>\n",
       "      <td>psa</td>\n",
       "      <td>Friday</td>\n",
       "      <td>21</td>\n",
       "      <td>3.57%</td>\n",
       "    </tr>\n",
       "    <tr>\n",
       "      <th>7</th>\n",
       "      <td>psa</td>\n",
       "      <td>Sunday</td>\n",
       "      <td>16</td>\n",
       "      <td>3.52%</td>\n",
       "    </tr>\n",
       "    <tr>\n",
       "      <th>8</th>\n",
       "      <td>psa</td>\n",
       "      <td>Monday</td>\n",
       "      <td>19</td>\n",
       "      <td>3.51%</td>\n",
       "    </tr>\n",
       "    <tr>\n",
       "      <th>9</th>\n",
       "      <td>psa</td>\n",
       "      <td>Sunday</td>\n",
       "      <td>19</td>\n",
       "      <td>3.45%</td>\n",
       "    </tr>\n",
       "  </tbody>\n",
       "</table>\n",
       "</div>"
      ],
      "text/plain": [
       "  test_group most_ads_day  most_ads_hour conv_rate\n",
       "0        psa       Friday             19     3.89%\n",
       "1        psa      Tuesday             16     3.77%\n",
       "2        psa     Thursday             22     3.75%\n",
       "3        psa     Saturday              7      3.7%\n",
       "4        psa    Wednesday             16      3.7%\n",
       "5        psa       Sunday             15     3.65%\n",
       "6        psa       Friday             21     3.57%\n",
       "7        psa       Sunday             16     3.52%\n",
       "8        psa       Monday             19     3.51%\n",
       "9        psa       Sunday             19     3.45%"
      ]
     },
     "execution_count": 12,
     "metadata": {},
     "output_type": "execute_result"
    }
   ],
   "source": [
    "#PSA: Top 10 most ads day and hours conversion rate\n",
    "query = \"\"\"\n",
    "  SELECT \n",
    "  test_group,\n",
    "  most_ads_day,\n",
    "  most_ads_hour,\n",
    "  round(avg(converted) * 100,2) || '%' as conv_rate\n",
    "    FROM ab_testing\n",
    "    where test_group = 'psa'\n",
    "    group by 1,2,3\n",
    "    order by 4 desc\n",
    "    limit 10\n",
    "\"\"\"\n",
    "df = pd.read_sql_query(query, conn)\n",
    "df"
   ]
  },
  {
   "cell_type": "markdown",
   "id": "ec9459ee",
   "metadata": {
    "papermill": {
     "duration": 0.011899,
     "end_time": "2025-08-13T20:26:41.159104",
     "exception": false,
     "start_time": "2025-08-13T20:26:41.147205",
     "status": "completed"
    },
    "tags": []
   },
   "source": [
    "This section presents a more granular analysis of conversion rates, offering insights for more precise ad targeting. The results reveal clear differences between the two groups: the ad group achieves its highest conversion rates on Saturday mornings at 5:00 AM and 6:00 AM, while the PSA group peaks on Friday at 7:00 PM and Tuesday at 4:00 PM.\n",
    "\n",
    "These patterns highlight distinct user engagement behaviors for each group, which can be leveraged to schedule ad delivery during optimal time slots for maximum impact."
   ]
  },
  {
   "cell_type": "markdown",
   "id": "b93b1fb8",
   "metadata": {
    "papermill": {
     "duration": 0.011523,
     "end_time": "2025-08-13T20:26:41.182949",
     "exception": false,
     "start_time": "2025-08-13T20:26:41.171426",
     "status": "completed"
    },
    "tags": []
   },
   "source": [
    "## <span style=\"color:White; font-size:24px; font-weight:bold;\">4. Hypothesis testing </span>"
   ]
  },
  {
   "cell_type": "markdown",
   "id": "b10682eb",
   "metadata": {
    "papermill": {
     "duration": 0.011472,
     "end_time": "2025-08-13T20:26:41.206121",
     "exception": false,
     "start_time": "2025-08-13T20:26:41.194649",
     "status": "completed"
    },
    "tags": []
   },
   "source": [
    "### 4.1 Conversion Rate"
   ]
  },
  {
   "cell_type": "markdown",
   "id": "0b036d75",
   "metadata": {
    "papermill": {
     "duration": 0.012095,
     "end_time": "2025-08-13T20:26:41.229947",
     "exception": false,
     "start_time": "2025-08-13T20:26:41.217852",
     "status": "completed"
    },
    "tags": []
   },
   "source": [
    "The conversion rate is the primary metric in this analysis. As observed, the ad group achieved a conversion rate of 2.55%, compared to 1.75% for the PSA group. To determine whether this difference is statistically significant, a two-sample t-test was conducted.\n",
    "\n",
    " - Null Hypothesis (H₀): There is no significant difference in conversion rates between the ad group and the PSA group.\n",
    "\n",
    " - Alternative Hypothesis (H₁): There is a significant difference in conversion rates between the ad group and the PSA group.\n",
    "\n",
    "This test evaluates whether the observed difference is likely due to random variation or reflects a true underlying effect of the ad on conversion performance."
   ]
  },
  {
   "cell_type": "code",
   "execution_count": 13,
   "id": "e6f8e7e0",
   "metadata": {
    "execution": {
     "iopub.execute_input": "2025-08-13T20:26:41.255232Z",
     "iopub.status.busy": "2025-08-13T20:26:41.254836Z",
     "iopub.status.idle": "2025-08-13T20:26:41.268565Z",
     "shell.execute_reply": "2025-08-13T20:26:41.267450Z"
    },
    "papermill": {
     "duration": 0.028532,
     "end_time": "2025-08-13T20:26:41.270181",
     "exception": false,
     "start_time": "2025-08-13T20:26:41.241649",
     "status": "completed"
    },
    "tags": []
   },
   "outputs": [
    {
     "data": {
      "text/html": [
       "<div>\n",
       "<style scoped>\n",
       "    .dataframe tbody tr th:only-of-type {\n",
       "        vertical-align: middle;\n",
       "    }\n",
       "\n",
       "    .dataframe tbody tr th {\n",
       "        vertical-align: top;\n",
       "    }\n",
       "\n",
       "    .dataframe thead th {\n",
       "        text-align: right;\n",
       "    }\n",
       "</style>\n",
       "<table border=\"1\" class=\"dataframe\">\n",
       "  <thead>\n",
       "    <tr style=\"text-align: right;\">\n",
       "      <th></th>\n",
       "      <th>index</th>\n",
       "      <th>user_id</th>\n",
       "      <th>test_group</th>\n",
       "      <th>converted</th>\n",
       "      <th>total_ads</th>\n",
       "      <th>most_ads_day</th>\n",
       "      <th>most_ads_hour</th>\n",
       "    </tr>\n",
       "  </thead>\n",
       "  <tbody>\n",
       "    <tr>\n",
       "      <th>0</th>\n",
       "      <td>0</td>\n",
       "      <td>1069124</td>\n",
       "      <td>ad</td>\n",
       "      <td>0</td>\n",
       "      <td>130</td>\n",
       "      <td>Monday</td>\n",
       "      <td>20</td>\n",
       "    </tr>\n",
       "    <tr>\n",
       "      <th>1</th>\n",
       "      <td>1</td>\n",
       "      <td>1119715</td>\n",
       "      <td>ad</td>\n",
       "      <td>0</td>\n",
       "      <td>93</td>\n",
       "      <td>Tuesday</td>\n",
       "      <td>22</td>\n",
       "    </tr>\n",
       "    <tr>\n",
       "      <th>2</th>\n",
       "      <td>2</td>\n",
       "      <td>1144181</td>\n",
       "      <td>ad</td>\n",
       "      <td>0</td>\n",
       "      <td>21</td>\n",
       "      <td>Tuesday</td>\n",
       "      <td>18</td>\n",
       "    </tr>\n",
       "    <tr>\n",
       "      <th>3</th>\n",
       "      <td>3</td>\n",
       "      <td>1435133</td>\n",
       "      <td>ad</td>\n",
       "      <td>0</td>\n",
       "      <td>355</td>\n",
       "      <td>Tuesday</td>\n",
       "      <td>10</td>\n",
       "    </tr>\n",
       "    <tr>\n",
       "      <th>4</th>\n",
       "      <td>4</td>\n",
       "      <td>1015700</td>\n",
       "      <td>ad</td>\n",
       "      <td>0</td>\n",
       "      <td>276</td>\n",
       "      <td>Friday</td>\n",
       "      <td>14</td>\n",
       "    </tr>\n",
       "    <tr>\n",
       "      <th>5</th>\n",
       "      <td>5</td>\n",
       "      <td>1137664</td>\n",
       "      <td>ad</td>\n",
       "      <td>0</td>\n",
       "      <td>734</td>\n",
       "      <td>Saturday</td>\n",
       "      <td>10</td>\n",
       "    </tr>\n",
       "    <tr>\n",
       "      <th>6</th>\n",
       "      <td>6</td>\n",
       "      <td>1116205</td>\n",
       "      <td>ad</td>\n",
       "      <td>0</td>\n",
       "      <td>264</td>\n",
       "      <td>Wednesday</td>\n",
       "      <td>13</td>\n",
       "    </tr>\n",
       "    <tr>\n",
       "      <th>7</th>\n",
       "      <td>7</td>\n",
       "      <td>1496843</td>\n",
       "      <td>ad</td>\n",
       "      <td>0</td>\n",
       "      <td>17</td>\n",
       "      <td>Sunday</td>\n",
       "      <td>18</td>\n",
       "    </tr>\n",
       "    <tr>\n",
       "      <th>8</th>\n",
       "      <td>8</td>\n",
       "      <td>1448851</td>\n",
       "      <td>ad</td>\n",
       "      <td>0</td>\n",
       "      <td>21</td>\n",
       "      <td>Tuesday</td>\n",
       "      <td>19</td>\n",
       "    </tr>\n",
       "    <tr>\n",
       "      <th>9</th>\n",
       "      <td>9</td>\n",
       "      <td>1446284</td>\n",
       "      <td>ad</td>\n",
       "      <td>0</td>\n",
       "      <td>142</td>\n",
       "      <td>Monday</td>\n",
       "      <td>14</td>\n",
       "    </tr>\n",
       "  </tbody>\n",
       "</table>\n",
       "</div>"
      ],
      "text/plain": [
       "   index  user_id test_group  converted  total_ads most_ads_day  most_ads_hour\n",
       "0      0  1069124         ad          0        130       Monday             20\n",
       "1      1  1119715         ad          0         93      Tuesday             22\n",
       "2      2  1144181         ad          0         21      Tuesday             18\n",
       "3      3  1435133         ad          0        355      Tuesday             10\n",
       "4      4  1015700         ad          0        276       Friday             14\n",
       "5      5  1137664         ad          0        734     Saturday             10\n",
       "6      6  1116205         ad          0        264    Wednesday             13\n",
       "7      7  1496843         ad          0         17       Sunday             18\n",
       "8      8  1448851         ad          0         21      Tuesday             19\n",
       "9      9  1446284         ad          0        142       Monday             14"
      ]
     },
     "execution_count": 13,
     "metadata": {},
     "output_type": "execute_result"
    }
   ],
   "source": [
    "#convert 'converted'col to integer\n",
    "base_df['converted'] = base_df['converted'].astype(int)\n",
    "base_df.head(10)"
   ]
  },
  {
   "cell_type": "code",
   "execution_count": 14,
   "id": "454d20dc",
   "metadata": {
    "execution": {
     "iopub.execute_input": "2025-08-13T20:26:41.295755Z",
     "iopub.status.busy": "2025-08-13T20:26:41.295477Z",
     "iopub.status.idle": "2025-08-13T20:26:41.464212Z",
     "shell.execute_reply": "2025-08-13T20:26:41.463089Z"
    },
    "papermill": {
     "duration": 0.183394,
     "end_time": "2025-08-13T20:26:41.465809",
     "exception": false,
     "start_time": "2025-08-13T20:26:41.282415",
     "status": "completed"
    },
    "tags": []
   },
   "outputs": [
    {
     "name": "stdout",
     "output_type": "stream",
     "text": [
      "Hypothesis on conversion rate：T-statistic: 7.370405974285658, P-value: 1.703305262783145e-13\n"
     ]
    }
   ],
   "source": [
    "# two variants\n",
    "control_group = base_df[base_df['test_group'] == 'psa']\n",
    "treatment_group = base_df[base_df['test_group'] == 'ad']\n",
    "\n",
    "#Hypothesis on conversion rate\n",
    "t_stat, p_val = stats.ttest_ind(treatment_group['converted'], control_group['converted'])\n",
    "print(f\"Hypothesis on conversion rate：T-statistic: {t_stat}, P-value: {p_val}\")"
   ]
  },
  {
   "cell_type": "code",
   "execution_count": 15,
   "id": "722b22e4",
   "metadata": {
    "execution": {
     "iopub.execute_input": "2025-08-13T20:26:41.492216Z",
     "iopub.status.busy": "2025-08-13T20:26:41.491787Z",
     "iopub.status.idle": "2025-08-13T20:26:41.497782Z",
     "shell.execute_reply": "2025-08-13T20:26:41.496889Z"
    },
    "papermill": {
     "duration": 0.021233,
     "end_time": "2025-08-13T20:26:41.499507",
     "exception": false,
     "start_time": "2025-08-13T20:26:41.478274",
     "status": "completed"
    },
    "tags": []
   },
   "outputs": [
    {
     "name": "stdout",
     "output_type": "stream",
     "text": [
      "Reject the null hypothesis: There is a significant difference in conversion rates between the 'ad' and 'psa' groups.\n"
     ]
    }
   ],
   "source": [
    "if p_val < 0.05:\n",
    "    print(\"Reject the null hypothesis: There is a significant difference in conversion rates between the 'ad' and 'psa' groups.\")\n",
    "else:\n",
    "    print(\"Fail to reject the null hypothesis: There is no significant difference in conversion rates between the 'ad' and 'psa' groups.\")"
   ]
  },
  {
   "cell_type": "markdown",
   "id": "30974244",
   "metadata": {
    "papermill": {
     "duration": 0.012636,
     "end_time": "2025-08-13T20:26:41.525531",
     "exception": false,
     "start_time": "2025-08-13T20:26:41.512895",
     "status": "completed"
    },
    "tags": []
   },
   "source": [
    "Result: The p-value obtained from the two-sample t-test is below the chosen significance level, leading to the rejection of the null hypothesis. Therefore, we conclude that there is a statistically significant difference in conversion rates between the ad group and the PSA group."
   ]
  },
  {
   "cell_type": "markdown",
   "id": "ce1a2d43",
   "metadata": {
    "papermill": {
     "duration": 0.016761,
     "end_time": "2025-08-13T20:26:41.555515",
     "exception": false,
     "start_time": "2025-08-13T20:26:41.538754",
     "status": "completed"
    },
    "tags": []
   },
   "source": [
    "The next metric to evaluate is the total number of ads seen by each group. Before selecting the appropriate statistical test, I first examined its distribution, as the two-sample t-test requires the data to be approximately normally distributed.\n",
    "\n",
    "The histogram reveals a heavily right-skewed, long-tailed distribution, with the majority of values concentrated near zero and a small number of extreme high values (outliers) on the right. Given this violation of the normality assumption, I will use a non-parametric Mann–Whitney U test to compare the two groups.\n",
    "\n"
   ]
  },
  {
   "cell_type": "code",
   "execution_count": 16,
   "id": "c7e41af7",
   "metadata": {
    "execution": {
     "iopub.execute_input": "2025-08-13T20:26:41.594642Z",
     "iopub.status.busy": "2025-08-13T20:26:41.594264Z",
     "iopub.status.idle": "2025-08-13T20:26:46.580866Z",
     "shell.execute_reply": "2025-08-13T20:26:46.579972Z"
    },
    "papermill": {
     "duration": 5.007009,
     "end_time": "2025-08-13T20:26:46.582453",
     "exception": false,
     "start_time": "2025-08-13T20:26:41.575444",
     "status": "completed"
    },
    "tags": []
   },
   "outputs": [
    {
     "name": "stderr",
     "output_type": "stream",
     "text": [
      "/usr/local/lib/python3.11/dist-packages/seaborn/_oldcore.py:1119: FutureWarning: use_inf_as_na option is deprecated and will be removed in a future version. Convert inf values to NaN before operating instead.\n",
      "  with pd.option_context('mode.use_inf_as_na', True):\n"
     ]
    },
    {
     "data": {
      "image/png": "[encoded data removed]",
      "text/plain": [
       "<Figure size 640x480 with 1 Axes>"
      ]
     },
     "metadata": {},
     "output_type": "display_data"
    }
   ],
   "source": [
    "#check total ads distribution \n",
    "sns.histplot(base_df['total_ads'])\n",
    "plt.show()"
   ]
  },
  {
   "cell_type": "code",
   "execution_count": 17,
   "id": "8bf19eb3",
   "metadata": {
    "execution": {
     "iopub.execute_input": "2025-08-13T20:26:46.608833Z",
     "iopub.status.busy": "2025-08-13T20:26:46.608532Z",
     "iopub.status.idle": "2025-08-13T20:26:46.676548Z",
     "shell.execute_reply": "2025-08-13T20:26:46.675625Z"
    },
    "papermill": {
     "duration": 0.082895,
     "end_time": "2025-08-13T20:26:46.677988",
     "exception": false,
     "start_time": "2025-08-13T20:26:46.595093",
     "status": "completed"
    },
    "tags": []
   },
   "outputs": [
    {
     "name": "stdout",
     "output_type": "stream",
     "text": [
      "U-statistic: 6808288222.0, P-value: 4.6909108547205694e-11\n"
     ]
    }
   ],
   "source": [
    "# Total Ads Analysis using mann-whitneyU\n",
    "u_stat, p_val = stats.mannwhitneyu(treatment_group['total_ads'], \n",
    "                                   control_group['total_ads'],\n",
    "                                   alternative='two-sided')\n",
    "print(f\"U-statistic: {u_stat}, P-value: {p_val}\")\n"
   ]
  },
  {
   "cell_type": "code",
   "execution_count": 18,
   "id": "7d94e15c",
   "metadata": {
    "execution": {
     "iopub.execute_input": "2025-08-13T20:26:46.704975Z",
     "iopub.status.busy": "2025-08-13T20:26:46.704641Z",
     "iopub.status.idle": "2025-08-13T20:26:46.709675Z",
     "shell.execute_reply": "2025-08-13T20:26:46.708738Z"
    },
    "papermill": {
     "duration": 0.020011,
     "end_time": "2025-08-13T20:26:46.711212",
     "exception": false,
     "start_time": "2025-08-13T20:26:46.691201",
     "status": "completed"
    },
    "tags": []
   },
   "outputs": [
    {
     "name": "stdout",
     "output_type": "stream",
     "text": [
      "Reject the null hypothesis: There is a significant difference in total ads between the 'ad' and 'psa' groups.\n"
     ]
    }
   ],
   "source": [
    "if p_val < 0.05:\n",
    "    print(\"Reject the null hypothesis: There is a significant difference in total ads between the 'ad' and 'psa' groups.\")\n",
    "else:\n",
    "    print(\"Fail to reject the null hypothesis: There is no significant difference in total ads between the 'ad' and 'psa' groups.\")"
   ]
  },
  {
   "cell_type": "markdown",
   "id": "f77f1a0d",
   "metadata": {
    "papermill": {
     "duration": 0.012561,
     "end_time": "2025-08-13T20:26:46.736911",
     "exception": false,
     "start_time": "2025-08-13T20:26:46.724350",
     "status": "completed"
    },
    "tags": []
   },
   "source": [
    "Results: The Mann–Whitney U test results indicate a statistically significant difference in the total number of ads seen between the ad group and the PSA group. This suggests that, under comparable delivery conditions, users in the ad group were exposed to a significantly higher number of ads than those in the PSA group.\n",
    "\n",
    "From a business perspective, this finding confirms that ad impressions were effectively delivered to the intended audience and that the treatment group received greater exposure, which may have contributed to the observed lift in conversion rates."
   ]
  },
  {
   "cell_type": "markdown",
   "id": "02b02662",
   "metadata": {
    "papermill": {
     "duration": 0.012606,
     "end_time": "2025-08-13T20:26:46.762589",
     "exception": false,
     "start_time": "2025-08-13T20:26:46.749983",
     "status": "completed"
    },
    "tags": []
   },
   "source": [
    "## <span style=\"color:White; font-size:24px; font-weight:bold;\">5.Key Findings & Recommendations </span>"
   ]
  },
  {
   "cell_type": "markdown",
   "id": "ccb8d74b",
   "metadata": {
    "papermill": {
     "duration": 0.012636,
     "end_time": "2025-08-13T20:26:46.788021",
     "exception": false,
     "start_time": "2025-08-13T20:26:46.775385",
     "status": "completed"
    },
    "tags": []
   },
   "source": [
    "1. Statistical Results\n",
    "\n",
    " - Conversion Rate – The ad group achieved a conversion rate of 2.55%, compared to 1.79% for the PSA group. A two-sample t-test confirmed that this difference is statistically significant.\n",
    "\n",
    " - Ad Impressions – The total number of ads viewed per user was significantly higher for the ad group than for the PSA group, as verified by the Mann–Whitney U test. This indicates effective delivery and greater exposure to the treatment group.\n",
    "\n",
    "2. Revenue Impact\n",
    "\n",
    " - Assuming a target audience of 500,000 users and an average revenue per conversion of 20 dollars, the conversion rate uplift of 0.76% translates into an estimated additional revenue of $76,000 if the ad campaign is launched.\n",
    "\n",
    "3. Business Insights from EDA\n",
    "\n",
    " - Day-of-Week Patterns – The ad group’s peak conversion rates occurred from Monday to Wednesday, while the PSA group peaked on Monday, Sunday, and Thursday. Friday had the highest ad impressions but relatively low conversion rates, suggesting a less optimal day for ad delivery.\n",
    "\n",
    " - Hour-of-Day Patterns – The ad group achieved its highest conversion rates between 2:00–5:00 PM (peak at 4:00 PM) and 8:00–10:00 PM (peak at 8:00 PM). A more granular view also showed Saturday early mornings (5:00–6:00 AM) as top-performing time slots.\n",
    "\n",
    "4. Recommendations\n",
    "\n",
    " - Launch the New Ad Campaign – The statistical evidence supports that the ad significantly outperforms the PSA in driving conversions.\n",
    "\n",
    " - Optimize Ad Scheduling – Reallocate ad delivery toward high-conversion periods (Monday–Wednesday, 2–5 PM, 8–10 PM, and Saturday early mornings) to maximize ROI.\n",
    "\n",
    " - Reduce Low-Impact Slots – Limit ad delivery on Friday despite high impressions, as conversion efficiency is low."
   ]
  }
 ],
 "metadata": {
  "kaggle": {
   "accelerator": "none",
   "dataSources": [
    {
     "datasetId": 1660669,
     "isSourceIdPinned": false,
     "sourceId": 2724653,
     "sourceType": "datasetVersion"
    }
   ],
   "dockerImageVersionId": 31089,
   "isGpuEnabled": false,
   "isInternetEnabled": false,
   "language": "python",
   "sourceType": "notebook"
  },
  "kernelspec": {
   "display_name": "Python 3",
   "language": "python",
   "name": "python3"
  },
  "language_info": {
   "codemirror_mode": {
    "name": "ipython",
    "version": 3
   },
   "file_extension": ".py",
   "mimetype": "text/x-python",
   "name": "python",
   "nbconvert_exporter": "python",
   "pygments_lexer": "ipython3",
   "version": "3.11.13"
  },
  "papermill": {
   "default_parameters": {},
   "duration": 26.191423,
   "end_time": "2025-08-13T20:26:47.923173",
   "environment_variables": {},
   "exception": null,
   "input_path": "__notebook__.ipynb",
   "output_path": "__notebook__.ipynb",
   "parameters": {},
   "start_time": "2025-08-13T20:26:21.731750",
   "version": "2.6.0"
  }
 },
 "nbformat": 4,
 "nbformat_minor": 5
}
